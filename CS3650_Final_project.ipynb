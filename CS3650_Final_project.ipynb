{
 "cells": [
  {
   "cell_type": "code",
   "execution_count": 1,
   "metadata": {},
   "outputs": [],
   "source": [
    "#include all necessary imports\n",
    "from qiskit import *\n",
    "%matplotlib inline\n",
    "from qiskit.tools.visualization import plot_histogram\n",
    "from qiskit.tools.monitor import job_monitor"
   ]
  },
  {
   "cell_type": "markdown",
   "metadata": {},
   "source": [
    "# Bernstein Vazirani Algorithm"
   ]
  },
  {
   "cell_type": "markdown",
   "metadata": {},
   "source": [
    "Given a black-box function f:{0,1}n↦{0,1} (also called a Oracle), we are expected to find a string of bits s∈{0,1}n (a secret number). "
   ]
  },
  {
   "cell_type": "markdown",
   "metadata": {},
   "source": [
    "### Classical solution\n",
    "The oracle returns: 𝑓𝑠(𝑥) = 𝑠 ⋅ 𝑥 mod 2\n",
    "Given an input x, the hidden string s can be revealed by querying the oracle of n times, n is the number of bits. \n",
    "\n",
    "            1010 \n",
    "     AND    0001\n",
    "     ____________\n",
    "            0000\n",
    "Using the AND gate to figure out if each bit is 1. "
   ]
  },
  {
   "cell_type": "markdown",
   "metadata": {},
   "source": [
    "### Quantum Solution\n",
    "By using the Bernstein Vazirani Algorithm we can find the hidden bit string with one call to the function.\n",
    "\n",
    "1. Initailize the input qubits to |0⟩   and the output qubit to |-⟩  \n",
    "2. Apply hadamard gates to the input registers\n",
    "3. Query the Oracle\n",
    "4. Apply Hadamard gates to the input registers\n",
    "5. Measure\n"
   ]
  },
  {
   "cell_type": "code",
   "execution_count": 2,
   "metadata": {},
   "outputs": [],
   "source": [
    "#Setting up a 4 bit Secret Number in binary\n",
    "secretNumber = '1010'"
   ]
  },
  {
   "cell_type": "code",
   "execution_count": 3,
   "metadata": {},
   "outputs": [],
   "source": [
    "#Setting up Quantum Circuit with n+1 qubits and n classic bits\n",
    "circuit = QuantumCircuit(len(secretNumber)+1, len(secretNumber))"
   ]
  },
  {
   "cell_type": "code",
   "execution_count": 4,
   "metadata": {},
   "outputs": [
    {
     "data": {
      "text/plain": [
       "<qiskit.circuit.instructionset.InstructionSet at 0x1a24870150>"
      ]
     },
     "execution_count": 4,
     "metadata": {},
     "output_type": "execute_result"
    }
   ],
   "source": [
    "#Apply Hadamard gate on all qubits except the control bit\n",
    "circuit.h(range(len(secretNumber)))"
   ]
  },
  {
   "cell_type": "code",
   "execution_count": 5,
   "metadata": {},
   "outputs": [
    {
     "data": {
      "text/plain": [
       "<qiskit.circuit.instructionset.InstructionSet at 0x1a24870990>"
      ]
     },
     "execution_count": 5,
     "metadata": {},
     "output_type": "execute_result"
    }
   ],
   "source": [
    "#Apply a X gate and a Hadamard gate on the control bit\n",
    "circuit.x(len(secretNumber))\n",
    "circuit.h(len(secretNumber))"
   ]
  },
  {
   "cell_type": "code",
   "execution_count": 6,
   "metadata": {},
   "outputs": [
    {
     "data": {
      "text/plain": [
       "<qiskit.circuit.instructionset.InstructionSet at 0x1a2487d210>"
      ]
     },
     "execution_count": 6,
     "metadata": {},
     "output_type": "execute_result"
    }
   ],
   "source": [
    "#Apply barrier\n",
    "circuit.barrier()"
   ]
  },
  {
   "cell_type": "markdown",
   "metadata": {},
   "source": [
    "### Phase Oracle"
   ]
  },
  {
   "cell_type": "code",
   "execution_count": 7,
   "metadata": {},
   "outputs": [],
   "source": [
    "#Applying CNOT gate at qubits that has 1 in secret number\n",
    "for index, bit in enumerate(reversed(secretNumber)):\n",
    "    if bit == '1':\n",
    "        circuit.cx(index,len(secretNumber))"
   ]
  },
  {
   "cell_type": "code",
   "execution_count": 8,
   "metadata": {},
   "outputs": [
    {
     "data": {
      "text/plain": [
       "<qiskit.circuit.instructionset.InstructionSet at 0x1a2487f5d0>"
      ]
     },
     "execution_count": 8,
     "metadata": {},
     "output_type": "execute_result"
    }
   ],
   "source": [
    "#Apply barrier\n",
    "circuit.barrier()"
   ]
  },
  {
   "cell_type": "code",
   "execution_count": 9,
   "metadata": {},
   "outputs": [
    {
     "data": {
      "text/plain": [
       "<qiskit.circuit.instructionset.InstructionSet at 0x1a24870690>"
      ]
     },
     "execution_count": 9,
     "metadata": {},
     "output_type": "execute_result"
    }
   ],
   "source": [
    "#Apply Hadamard gate again on all qubits except the control bit\n",
    "circuit.h(range(len(secretNumber)))"
   ]
  },
  {
   "cell_type": "code",
   "execution_count": 10,
   "metadata": {},
   "outputs": [
    {
     "data": {
      "text/plain": [
       "<qiskit.circuit.instructionset.InstructionSet at 0x1a24870590>"
      ]
     },
     "execution_count": 10,
     "metadata": {},
     "output_type": "execute_result"
    }
   ],
   "source": [
    "#Apply barrier\n",
    "circuit.barrier()"
   ]
  },
  {
   "cell_type": "code",
   "execution_count": 11,
   "metadata": {},
   "outputs": [
    {
     "data": {
      "text/plain": [
       "<qiskit.circuit.instructionset.InstructionSet at 0x10ddd78d0>"
      ]
     },
     "execution_count": 11,
     "metadata": {},
     "output_type": "execute_result"
    }
   ],
   "source": [
    "#Measure all qubits except the control bit and send it to classic bits\n",
    "circuit.measure(range(len(secretNumber)),range(len(secretNumber)))"
   ]
  },
  {
   "cell_type": "markdown",
   "metadata": {},
   "source": [
    "### Circuit representation"
   ]
  },
  {
   "cell_type": "code",
   "execution_count": 12,
   "metadata": {},
   "outputs": [
    {
     "data": {
      "image/png": "[encoded data removed]",
      "text/plain": [
       "<Figure size 900.592x385.28 with 1 Axes>"
      ]
     },
     "execution_count": 12,
     "metadata": {},
     "output_type": "execute_result"
    }
   ],
   "source": [
    "circuit.draw(output = 'mpl')"
   ]
  },
  {
   "cell_type": "markdown",
   "metadata": {},
   "source": [
    "### Simulating the circuit"
   ]
  },
  {
   "cell_type": "code",
   "execution_count": 13,
   "metadata": {},
   "outputs": [],
   "source": [
    "#Selecting the quantum assembly simulator\n",
    "simulator = Aer.get_backend('qasm_simulator')"
   ]
  },
  {
   "cell_type": "code",
   "execution_count": 14,
   "metadata": {},
   "outputs": [],
   "source": [
    "#Set shots to 1 because we know it will give us the correct answer in 1 try\n",
    "shots = 1"
   ]
  },
  {
   "cell_type": "code",
   "execution_count": 15,
   "metadata": {},
   "outputs": [],
   "source": [
    "#Executing the circuit in the simulator and saving the results\n",
    "result = execute(circuit, backend = simulator, shots = 1).result()"
   ]
  },
  {
   "cell_type": "code",
   "execution_count": 16,
   "metadata": {},
   "outputs": [
    {
     "name": "stdout",
     "output_type": "stream",
     "text": [
      "{'1010': 1}\n"
     ]
    }
   ],
   "source": [
    "#Printing out the secret number\n",
    "counts = result.get_counts()\n",
    "print(counts)"
   ]
  },
  {
   "cell_type": "markdown",
   "metadata": {},
   "source": [
    "'1010' is the correct secret number"
   ]
  },
  {
   "cell_type": "markdown",
   "metadata": {},
   "source": [
    "### Running the circuit on Quantum Computer"
   ]
  },
  {
   "cell_type": "code",
   "execution_count": 17,
   "metadata": {},
   "outputs": [],
   "source": [
    "#Selecting the qunatum computer from IBMQ\n",
    "IBMQ.load_account()\n",
    "provider = IBMQ.get_provider('ibm-q')\n",
    "qcomp = provider.get_backend('ibmq_16_melbourne')"
   ]
  },
  {
   "cell_type": "code",
   "execution_count": 18,
   "metadata": {},
   "outputs": [
    {
     "name": "stdout",
     "output_type": "stream",
     "text": [
      "Job Status: job has successfully run\n"
     ]
    }
   ],
   "source": [
    "#Executing the circuit on Quantum Computer with default 1024 shots\n",
    "job = execute(circuit, backend = qcomp)\n",
    "job_monitor(job)"
   ]
  },
  {
   "cell_type": "code",
   "execution_count": 19,
   "metadata": {},
   "outputs": [
    {
     "name": "stdout",
     "output_type": "stream",
     "text": [
      "1110\n"
     ]
    }
   ],
   "source": [
    "#Printing out the result from Quantum Computer\n",
    "result = job.result()\n",
    "counts = result.get_counts()\n",
    "max_key = max(counts, key=counts.get) #Getting the highest count\n",
    "print(max_key)                        #as the secret number"
   ]
  },
  {
   "cell_type": "markdown",
   "metadata": {},
   "source": [
    "### Result Histogram"
   ]
  },
  {
   "cell_type": "code",
   "execution_count": 20,
   "metadata": {},
   "outputs": [
    {
     "data": {
      "image/png": "[encoded data removed]",
      "text/plain": [
       "<Figure size 504x360 with 1 Axes>"
      ]
     },
     "execution_count": 20,
     "metadata": {},
     "output_type": "execute_result"
    }
   ],
   "source": [
    "plot_histogram(result.get_counts(circuit))"
   ]
  },
  {
   "cell_type": "markdown",
   "metadata": {},
   "source": [
    "The result is incorrect and the correct number did not even show up once because of the CNOT gates belong to the set of multiqubit operators and are difficult to engineered precisely."
   ]
  },
  {
   "cell_type": "markdown",
   "metadata": {},
   "source": [
    "### Alternative Circuit Design\n",
    "The goal of the new circuit is to limit the contorl gates, so the more precise the outcome can be. \n",
    "\n",
    "Because the ancilla(control bit) stays constant throughout calculation, and it is only used for phase kick-back. As long as we can produce (−1)f(x)|x⟩ we can eliminate using an ancilla. The Z gate is able to reverse the sign, it keeps the state |0⟩ unchanged and transforms |1⟩ into −|1⟩. We can apply the z gate when f(x) = 1."
   ]
  },
  {
   "cell_type": "code",
   "execution_count": 21,
   "metadata": {},
   "outputs": [],
   "source": [
    "#Creates the alternative circuit for BV Algorithm\n",
    "def alt_circuit(nQbuits, s):\n",
    "    qc = QuantumCircuit(nQbuits,nQbuits)\n",
    "    \n",
    "    #Apply Hadamard gate on all qubits\n",
    "    for i in range(nQubits):\n",
    "        qc.h(i)\n",
    "    qc.barrier()\n",
    "    \n",
    "    #Apply Z gate when bit is '1'\n",
    "    for index, bit in enumerate(reversed(s)):\n",
    "        if bit == '1':\n",
    "            qc.z(index)\n",
    "    qc.barrier()\n",
    "    \n",
    "    #Apply Hadamard gate on all qubits\n",
    "    for i in range(nQubits):\n",
    "        qc.h(i)\n",
    "    qc.barrier()\n",
    "    \n",
    "    qc.measure(range(nQubits), range(nQubits))\n",
    "    \n",
    "    return qc"
   ]
  },
  {
   "cell_type": "code",
   "execution_count": 24,
   "metadata": {},
   "outputs": [],
   "source": [
    "nQubits = 4\n",
    "bvCircuit_alternative = alt_circuit(nQubits, secretNumber) "
   ]
  },
  {
   "cell_type": "code",
   "execution_count": 25,
   "metadata": {},
   "outputs": [
    {
     "name": "stdout",
     "output_type": "stream",
     "text": [
      "Job Status: job has successfully run\n"
     ]
    },
    {
     "data": {
      "image/png": "[encoded data removed]",
      "text/plain": [
       "<Figure size 504x360 with 1 Axes>"
      ]
     },
     "execution_count": 25,
     "metadata": {},
     "output_type": "execute_result"
    }
   ],
   "source": [
    "shots = 1024\n",
    "job = execute(bvCircuit_alternative, backend=qcomp, shots=shots)\n",
    "job_monitor(job)\n",
    "result = job.result()\n",
    "answer = result.get_counts()\n",
    "plot_histogram(answer) "
   ]
  },
  {
   "cell_type": "markdown",
   "metadata": {},
   "source": [
    "The result give us around 80% of accuracy to guess the correct nunmber."
   ]
  },
  {
   "cell_type": "code",
   "execution_count": null,
   "metadata": {},
   "outputs": [],
   "source": []
  }
 ],
 "metadata": {
  "kernelspec": {
   "display_name": "Python 3",
   "language": "python",
   "name": "python3"
  },
  "language_info": {
   "codemirror_mode": {
    "name": "ipython",
    "version": 3
   },
   "file_extension": ".py",
   "mimetype": "text/x-python",
   "name": "python",
   "nbconvert_exporter": "python",
   "pygments_lexer": "ipython3",
   "version": "3.7.6"
  }
 },
 "nbformat": 4,
 "nbformat_minor": 4
}
